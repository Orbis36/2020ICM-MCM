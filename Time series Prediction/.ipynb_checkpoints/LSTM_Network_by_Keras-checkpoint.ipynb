{
 "cells": [
  {
   "cell_type": "code",
   "execution_count": 20,
   "metadata": {},
   "outputs": [],
   "source": [
    "import pandas as pd \n",
    "import sklearn.preprocessing as skp\n",
    "import matplotlib.pyplot as plt\n",
    "import math\n",
    "\n",
    "from keras.models import Sequential\n",
    "from keras.layers import Dense\n",
    "from keras.layers import LSTM\n",
    "from numpy import concatenate\n",
    "from sklearn.metrics import mean_squared_error"
   ]
  },
  {
   "cell_type": "code",
   "execution_count": 2,
   "metadata": {},
   "outputs": [],
   "source": [
    "def series_to_supervised(data, n_in=1, n_out=1, dropnan=True):\n",
    "    n_vars = 1 if type(data) is list else data.shape[1]\n",
    "    df = pd.DataFrame(data)\n",
    "    cols, names = list(), list()\n",
    "    #input sequence\n",
    "    for i in range(n_in,0,-1):\n",
    "        cols.append(df.shift(i))\n",
    "        names += [('var%d(t-%d)'%(j+1,i)) for j in range(n_vars)]\n",
    "    #output sequence\n",
    "    for i in range(0,n_out):\n",
    "        cols.append(df.shift(-i))\n",
    "        if i == 0:\n",
    "            names += [('var%d(t)' % (j+1)) for j in range(n_vars)]\n",
    "        else:\n",
    "            names += [('var%d(t+%d)' % (j+1, i)) for j in range(n_vars)]\n",
    "    res = pd.concat(cols, axis = 1)\n",
    "    res.columns = names\n",
    "    if dropnan:\n",
    "        res.dropna(inplace = True)\n",
    "    return res"
   ]
  },
  {
   "cell_type": "code",
   "execution_count": 3,
   "metadata": {},
   "outputs": [],
   "source": [
    "def Divide(data,feature_num,days = 20,steps = 3):\n",
    "    train_hours = days*24\n",
    "    train = data[:train_hours,:]\n",
    "    test = data[train_hours:,:]\n",
    "    train_data,train_label = train[:,:-1],train[:,-1]\n",
    "    test_data,test_label = test[:,:-1],test[:,-1]\n",
    "    train_data = train_data.reshape((train_data.shape[0],steps,feature_num))\n",
    "    test_data = test_data.reshape((test_data.shape[0]),steps,feature_num)\n",
    "    print(\"Data processing completed，data shape is{size}\".format(size = train_data.shape))\n",
    "    return train_data,train_label,test_data,test_label"
   ]
  },
  {
   "cell_type": "markdown",
   "metadata": {},
   "source": [
    "Import data"
   ]
  },
  {
   "cell_type": "code",
   "execution_count": 4,
   "metadata": {},
   "outputs": [],
   "source": [
    "df = pd.read_excel(\"AirQualityUCI.xlsx\",parse_dates=[['Date', 'Time']])\n",
    "df['Date_Time'] = pd.to_datetime(df.Date_Time , format = '%d/%m/%Y %H.%M.%S')\n",
    "data = df.drop(['Date_Time'], axis=1)\n",
    "data.index = df.Date_Time\n",
    "Frame = pd.DataFrame(data,columns=['CO(GT)','PT08.S1(CO)','C6H6(GT)'])\n"
   ]
  },
  {
   "cell_type": "code",
   "execution_count": null,
   "metadata": {},
   "outputs": [],
   "source": [
    "for row in list(Frame):\n",
    "    for index,row_d in df.iterrows():\n",
    "        if(Frame[row][index] == -200):\n",
    "            m=1\n",
    "            while(Frame[row][index+m] == -200):\n",
    "                m+=1\n",
    "            Frame[row][index] = (Frame[row][index-1]+Frame[row][index+m])/2"
   ]
  },
  {
   "cell_type": "markdown",
   "metadata": {},
   "source": [
    "Transfer it to data can be used in supervised problems"
   ]
  },
  {
   "cell_type": "code",
   "execution_count": 5,
   "metadata": {
    "scrolled": false
   },
   "outputs": [
    {
     "name": "stdout",
     "output_type": "stream",
     "text": [
      "(9354, 10)\n"
     ]
    },
    {
     "name": "stderr",
     "output_type": "stream",
     "text": [
      "D:\\Anaconda3\\lib\\site-packages\\sklearn\\preprocessing\\data.py:323: DataConversionWarning: Data with input dtype float32 were all converted to float64 by MinMaxScaler.\n",
      "  return self.partial_fit(X, y)\n"
     ]
    }
   ],
   "source": [
    "Terms_use = 3\n",
    "Predict_terms = 1\n",
    "\n",
    "values = Frame.values.astype('float32')\n",
    "#Transfer\n",
    "reframed = series_to_supervised(values, Terms_use, Predict_terms)\n",
    "\n",
    "#We use var1,var2,var3 to predict var1(t) here,so we need to drop last 2 columns\n",
    "reframed.drop(reframed.columns[[-1,-2]], axis=1, inplace=True)\n",
    "\n",
    "#Because of tanh in LSTM cells we should normailze data between 0 and 1\n",
    "scaler = skp.MinMaxScaler(feature_range=(0, 1))\n",
    "scaled_frame = scaler.fit_transform(reframed)\n",
    "\n",
    "print(reframed.shape)"
   ]
  },
  {
   "cell_type": "markdown",
   "metadata": {},
   "source": [
    "Transforming variables into a form suitable for LSTM cells input             \n",
    "(Input_number,time steps used to predict,feature_number)"
   ]
  },
  {
   "cell_type": "code",
   "execution_count": 6,
   "metadata": {},
   "outputs": [
    {
     "name": "stdout",
     "output_type": "stream",
     "text": [
      "Data processing completed，data shape is(7200, 3, 3)\n"
     ]
    }
   ],
   "source": [
    "feature_num = 3\n",
    "previous_steps_used = 3\n",
    "days_pre = 300\n",
    "X_train,Y_train,X_test,Y_test = Divide(scaled_frame,feature_num,days_pre,previous_steps_used)"
   ]
  },
  {
   "cell_type": "markdown",
   "metadata": {},
   "source": [
    "### Network build "
   ]
  },
  {
   "cell_type": "code",
   "execution_count": 7,
   "metadata": {
    "scrolled": true
   },
   "outputs": [
    {
     "name": "stdout",
     "output_type": "stream",
     "text": [
      "WARNING:tensorflow:From D:\\Anaconda3\\lib\\site-packages\\tensorflow\\python\\framework\\op_def_library.py:263: colocate_with (from tensorflow.python.framework.ops) is deprecated and will be removed in a future version.\n",
      "Instructions for updating:\n",
      "Colocations handled automatically by placer.\n"
     ]
    },
    {
     "name": "stderr",
     "output_type": "stream",
     "text": [
      "D:\\Anaconda3\\lib\\site-packages\\ipykernel_launcher.py:3: UserWarning: Update your `Dense` call to the Keras 2 API: `Dense(1, kernel_initializer=\"TruncatedNormal\")`\n",
      "  This is separate from the ipykernel package so we can avoid doing imports until\n"
     ]
    }
   ],
   "source": [
    "LSTM_net = Sequential()\n",
    "LSTM_net.add(LSTM(50, input_shape=(X_train.shape[1], X_train.shape[2])))\n",
    "LSTM_net.add(Dense(1,init = 'TruncatedNormal' ))\n",
    "LSTM_net.compile(loss='mae', optimizer='adam')"
   ]
  },
  {
   "cell_type": "code",
   "execution_count": 8,
   "metadata": {
    "scrolled": true
   },
   "outputs": [
    {
     "name": "stdout",
     "output_type": "stream",
     "text": [
      "WARNING:tensorflow:From D:\\Anaconda3\\lib\\site-packages\\tensorflow\\python\\ops\\math_ops.py:3066: to_int32 (from tensorflow.python.ops.math_ops) is deprecated and will be removed in a future version.\n",
      "Instructions for updating:\n",
      "Use tf.cast instead.\n",
      "Train on 7200 samples, validate on 2154 samples\n",
      "Epoch 1/30\n",
      " - 2s - loss: 0.3634 - val_loss: 0.0769\n",
      "Epoch 2/30\n",
      " - 0s - loss: 0.1252 - val_loss: 0.0851\n",
      "Epoch 3/30\n",
      " - 0s - loss: 0.0758 - val_loss: 0.0699\n",
      "Epoch 4/30\n",
      " - 0s - loss: 0.0697 - val_loss: 0.0657\n",
      "Epoch 5/30\n",
      " - 0s - loss: 0.0611 - val_loss: 0.0534\n",
      "Epoch 6/30\n",
      " - 0s - loss: 0.0601 - val_loss: 0.0520\n",
      "Epoch 7/30\n",
      " - 0s - loss: 0.0602 - val_loss: 0.0559\n",
      "Epoch 8/30\n",
      " - 0s - loss: 0.0592 - val_loss: 0.0521\n",
      "Epoch 9/30\n",
      " - 0s - loss: 0.0567 - val_loss: 0.0587\n",
      "Epoch 10/30\n",
      " - 0s - loss: 0.0559 - val_loss: 0.0481\n",
      "Epoch 11/30\n",
      " - 0s - loss: 0.0559 - val_loss: 0.0499\n",
      "Epoch 12/30\n",
      " - 0s - loss: 0.0537 - val_loss: 0.0493\n",
      "Epoch 13/30\n",
      " - 0s - loss: 0.0545 - val_loss: 0.0477\n",
      "Epoch 14/30\n",
      " - 0s - loss: 0.0534 - val_loss: 0.0511\n",
      "Epoch 15/30\n",
      " - 0s - loss: 0.0527 - val_loss: 0.0496\n",
      "Epoch 16/30\n",
      " - 0s - loss: 0.0534 - val_loss: 0.0469\n",
      "Epoch 17/30\n",
      " - 0s - loss: 0.0584 - val_loss: 0.0490\n",
      "Epoch 18/30\n",
      " - 0s - loss: 0.0526 - val_loss: 0.0469\n",
      "Epoch 19/30\n",
      " - 0s - loss: 0.0523 - val_loss: 0.0463\n",
      "Epoch 20/30\n",
      " - 0s - loss: 0.0517 - val_loss: 0.0468\n",
      "Epoch 21/30\n",
      " - 0s - loss: 0.0511 - val_loss: 0.0461\n",
      "Epoch 22/30\n",
      " - 0s - loss: 0.0526 - val_loss: 0.0606\n",
      "Epoch 23/30\n",
      " - 0s - loss: 0.0601 - val_loss: 0.0487\n",
      "Epoch 24/30\n",
      " - 0s - loss: 0.0527 - val_loss: 0.0567\n",
      "Epoch 25/30\n",
      " - 0s - loss: 0.0519 - val_loss: 0.0485\n",
      "Epoch 26/30\n",
      " - 0s - loss: 0.0506 - val_loss: 0.0462\n",
      "Epoch 27/30\n",
      " - 0s - loss: 0.0526 - val_loss: 0.0577\n",
      "Epoch 28/30\n",
      " - 0s - loss: 0.0523 - val_loss: 0.0450\n",
      "Epoch 29/30\n",
      " - 0s - loss: 0.0532 - val_loss: 0.0478\n",
      "Epoch 30/30\n",
      " - 0s - loss: 0.0515 - val_loss: 0.0559\n"
     ]
    }
   ],
   "source": [
    "history = LSTM_net.fit(X_train, Y_train, epochs=30, batch_size=72, validation_data=(X_test, Y_test), verbose=2, shuffle=False)"
   ]
  },
  {
   "cell_type": "markdown",
   "metadata": {},
   "source": [
    "Plot training loss "
   ]
  },
  {
   "cell_type": "code",
   "execution_count": 9,
   "metadata": {},
   "outputs": [
    {
     "data": {
      "image/png": "[encoded data removed]",
      "text/plain": [
       "<Figure size 432x288 with 1 Axes>"
      ]
     },
     "metadata": {
      "needs_background": "light"
     },
     "output_type": "display_data"
    }
   ],
   "source": [
    "plt.plot(history.history['loss'], label='train')\n",
    "plt.plot(history.history['val_loss'], label='test')\n",
    "plt.legend()\n",
    "plt.show()"
   ]
  },
  {
   "cell_type": "code",
   "execution_count": 10,
   "metadata": {},
   "outputs": [
    {
     "name": "stdout",
     "output_type": "stream",
     "text": [
      "(2154, 1)\n",
      "[[0.9451239 ]\n",
      " [0.9451374 ]\n",
      " [0.94463134]\n",
      " ...\n",
      " [0.94068277]\n",
      " [0.93881357]\n",
      " [0.9377619 ]]\n"
     ]
    }
   ],
   "source": [
    "Prediction = LSTM_net.predict(X_test)\n",
    "print(Prediction.shape)\n",
    "print(Prediction)"
   ]
  },
  {
   "cell_type": "markdown",
   "metadata": {},
   "source": [
    "### Compare prediction and ground_truth"
   ]
  },
  {
   "cell_type": "markdown",
   "metadata": {},
   "source": [
    "Data Reduction"
   ]
  },
  {
   "cell_type": "code",
   "execution_count": 11,
   "metadata": {},
   "outputs": [
    {
     "name": "stdout",
     "output_type": "stream",
     "text": [
      "(2154, 9)\n"
     ]
    }
   ],
   "source": [
    "X_test = X_test.reshape((X_test.shape[0],feature_num*previous_steps_used))\n",
    "print(X_test.shape)"
   ]
  },
  {
   "cell_type": "code",
   "execution_count": 12,
   "metadata": {},
   "outputs": [
    {
     "name": "stdout",
     "output_type": "stream",
     "text": [
      "[[ 2.71756360e-01  1.95413426e+03 -2.00000000e+02 ...  1.96153316e+03\n",
      "  -2.00000000e+02 -2.00000000e+02]\n",
      " [ 2.74610791e-01  1.95202030e+03 -2.00000000e+02 ...  1.95307728e+03\n",
      "  -2.00000000e+02 -2.00000000e+02]\n",
      " [ 1.67380187e-01  1.96153316e+03 -2.00000000e+02 ...  1.93933648e+03\n",
      "  -2.00000000e+02 -2.00000000e+02]\n",
      " ...\n",
      " [-6.69321646e-01  1.95519125e+03 -2.37798318e+01 ...  1.93933648e+03\n",
      "  -3.95589848e+01 -3.01891753e+01]\n",
      " [-1.06540548e+00  1.94673537e+03 -2.16896828e+01 ...  1.93933648e+03\n",
      "  -4.19729597e+01 -2.93701660e+01]\n",
      " [-1.28825315e+00  1.93933648e+03 -3.95589848e+01 ...  1.93616553e+03\n",
      "  -5.83997646e+01 -3.16417685e+01]]\n"
     ]
    }
   ],
   "source": [
    "Reduction = concatenate((Prediction,X_test),axis=1)\n",
    "Reduction = scaler.inverse_transform(Reduction)"
   ]
  },
  {
   "cell_type": "code",
   "execution_count": 14,
   "metadata": {
    "scrolled": true
   },
   "outputs": [
    {
     "name": "stdout",
     "output_type": "stream",
     "text": [
      "(2154,) [ 0.27175636  0.27461079  0.16738019 ... -0.66932165 -1.06540548\n",
      " -1.28825315]\n"
     ]
    }
   ],
   "source": [
    "Reduction = Reduction[:,0]\n"
   ]
  },
  {
   "cell_type": "markdown",
   "metadata": {},
   "source": [
    "Reduction of Ground_Truth"
   ]
  },
  {
   "cell_type": "code",
   "execution_count": 15,
   "metadata": {},
   "outputs": [],
   "source": [
    "Y_test = Y_test.reshape((len(Y_test),1))\n",
    "Reduction_truth = concatenate((Y_test,X_test),axis = 1)\n",
    "Reduction_truth = scaler.inverse_transform(Reduction_truth)\n",
    "Ground_truth = Reduction_truth[:,0]"
   ]
  },
  {
   "cell_type": "code",
   "execution_count": 21,
   "metadata": {},
   "outputs": [
    {
     "name": "stdout",
     "output_type": "stream",
     "text": [
      "Test RMSE: 35.851\n"
     ]
    }
   ],
   "source": [
    "rmse = math.sqrt(mean_squared_error(Reduction, Ground_truth))\n",
    "print('Test RMSE: %.3f' % rmse)"
   ]
  },
  {
   "cell_type": "code",
   "execution_count": 24,
   "metadata": {},
   "outputs": [
    {
     "ename": "NameError",
     "evalue": "name 'np' is not defined",
     "output_type": "error",
     "traceback": [
      "\u001b[1;31m---------------------------------------------------------------------------\u001b[0m",
      "\u001b[1;31mNameError\u001b[0m                                 Traceback (most recent call last)",
      "\u001b[1;32m<ipython-input-24-7323f22a7a76>\u001b[0m in \u001b[0;36m<module>\u001b[1;34m\u001b[0m\n\u001b[0;32m      2\u001b[0m \u001b[0mpd\u001b[0m\u001b[1;33m.\u001b[0m\u001b[0mDataFrame\u001b[0m\u001b[1;33m(\u001b[0m\u001b[0mGround_truth\u001b[0m\u001b[1;33m)\u001b[0m\u001b[1;33m.\u001b[0m\u001b[0mplot\u001b[0m\u001b[1;33m(\u001b[0m\u001b[0mlabel\u001b[0m\u001b[1;33m=\u001b[0m\u001b[1;34m'Predict'\u001b[0m\u001b[1;33m)\u001b[0m\u001b[1;33m\u001b[0m\u001b[1;33m\u001b[0m\u001b[0m\n\u001b[0;32m      3\u001b[0m \u001b[0mpd\u001b[0m\u001b[1;33m.\u001b[0m\u001b[0mDataFrame\u001b[0m\u001b[1;33m(\u001b[0m\u001b[0mReduction\u001b[0m\u001b[1;33m)\u001b[0m\u001b[1;33m.\u001b[0m\u001b[0mplot\u001b[0m\u001b[1;33m(\u001b[0m\u001b[0mlabel\u001b[0m\u001b[1;33m=\u001b[0m\u001b[1;34m'Original'\u001b[0m\u001b[1;33m)\u001b[0m\u001b[1;33m\u001b[0m\u001b[1;33m\u001b[0m\u001b[0m\n\u001b[1;32m----> 4\u001b[1;33m \u001b[0mplt\u001b[0m\u001b[1;33m.\u001b[0m\u001b[0mtitle\u001b[0m\u001b[1;33m(\u001b[0m\u001b[1;34m'RMSE:PT08.S1(CO) %.4f'\u001b[0m\u001b[1;33m%\u001b[0m \u001b[0mnp\u001b[0m\u001b[1;33m.\u001b[0m\u001b[0msqrt\u001b[0m\u001b[1;33m(\u001b[0m\u001b[0msum\u001b[0m\u001b[1;33m(\u001b[0m\u001b[1;33m(\u001b[0m\u001b[0mdiff_1_list\u001b[0m\u001b[1;33m[\u001b[0m\u001b[1;34m'PT08.S1(CO)'\u001b[0m\u001b[1;33m]\u001b[0m\u001b[1;33m-\u001b[0m\u001b[0mprediction\u001b[0m\u001b[1;33m[\u001b[0m\u001b[1;34m'PT08.S1(CO)'\u001b[0m\u001b[1;33m]\u001b[0m\u001b[1;33m)\u001b[0m\u001b[1;33m**\u001b[0m\u001b[1;36m2\u001b[0m\u001b[1;33m)\u001b[0m\u001b[1;33m/\u001b[0m\u001b[0mNewFrame\u001b[0m\u001b[1;33m.\u001b[0m\u001b[0msize\u001b[0m\u001b[1;33m)\u001b[0m\u001b[1;33m)\u001b[0m\u001b[1;33m\u001b[0m\u001b[1;33m\u001b[0m\u001b[0m\n\u001b[0m\u001b[0;32m      5\u001b[0m \u001b[0mplt\u001b[0m\u001b[1;33m.\u001b[0m\u001b[0mlegend\u001b[0m\u001b[1;33m(\u001b[0m\u001b[0mloc\u001b[0m\u001b[1;33m=\u001b[0m\u001b[1;34m'best'\u001b[0m\u001b[1;33m)\u001b[0m\u001b[1;33m\u001b[0m\u001b[1;33m\u001b[0m\u001b[0m\n\u001b[0;32m      6\u001b[0m \u001b[0mplt\u001b[0m\u001b[1;33m.\u001b[0m\u001b[0mshow\u001b[0m\u001b[1;33m(\u001b[0m\u001b[1;33m)\u001b[0m\u001b[1;33m\u001b[0m\u001b[1;33m\u001b[0m\u001b[0m\n",
      "\u001b[1;31mNameError\u001b[0m: name 'np' is not defined"
     ]
    },
    {
     "data": {
      "text/plain": [
       "<Figure size 1728x576 with 0 Axes>"
      ]
     },
     "metadata": {},
     "output_type": "display_data"
    },
    {
     "data": {
      "image/png": "[encoded data removed]",
      "text/plain": [
       "<Figure size 432x288 with 1 Axes>"
      ]
     },
     "metadata": {
      "needs_background": "light"
     },
     "output_type": "display_data"
    },
    {
     "data": {
      "image/png": "[encoded data removed]",
      "text/plain": [
       "<Figure size 432x288 with 1 Axes>"
      ]
     },
     "metadata": {
      "needs_background": "light"
     },
     "output_type": "display_data"
    }
   ],
   "source": [
    "plt.figure(facecolor = 'white',figsize = (24,8))\n",
    "pd.DataFrame(Ground_truth).plot(label='Predict')\n",
    "pd.DataFrame(Reduction).plot(label='Original')\n",
    "plt.title('RMSE:PT08.S1(CO) %.4f'% np.sqrt(sum((diff_1_list['PT08.S1(CO)']-prediction['PT08.S1(CO)'])**2)/NewFrame.size))\n",
    "plt.legend(loc='best')\n",
    "plt.show()"
   ]
  },
  {
   "cell_type": "code",
   "execution_count": null,
   "metadata": {},
   "outputs": [],
   "source": []
  }
 ],
 "metadata": {
  "kernelspec": {
   "display_name": "Python 3",
   "language": "python",
   "name": "python3"
  },
  "language_info": {
   "codemirror_mode": {
    "name": "ipython",
    "version": 3
   },
   "file_extension": ".py",
   "mimetype": "text/x-python",
   "name": "python",
   "nbconvert_exporter": "python",
   "pygments_lexer": "ipython3",
   "version": "3.7.1"
  }
 },
 "nbformat": 4,
 "nbformat_minor": 2
}
